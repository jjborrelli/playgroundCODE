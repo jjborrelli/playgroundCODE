{
 "metadata": {
  "name": "",
  "signature": "sha256:8b84ef8bb527737c041ef353f75c620478a1d2bc129c600746246f3d87b2920e"
 },
 "nbformat": 3,
 "nbformat_minor": 0,
 "worksheets": [
  {
   "cells": [
    {
     "cell_type": "code",
     "collapsed": false,
     "input": [
      "import numpy as np\n",
      "from scipy import integrate"
     ],
     "language": "python",
     "metadata": {},
     "outputs": [],
     "prompt_number": 3
    },
    {
     "cell_type": "markdown",
     "metadata": {},
     "source": [
      "I am interested in systems of predator prey equations, for simplicity I will start with the Lotka-Volterra equations.\n",
      "\n",
      "The change in prey population size is:\n",
      "$$ \n",
      "\\frac{dN}{dt} = rN - aNP\n",
      "$$ \n",
      "\n",
      "While the change in predators is: \n",
      "\n",
      "$$ \n",
      "\\frac{dP}{dt} = eaNP - qP\n",
      "$$"
     ]
    },
    {
     "cell_type": "code",
     "collapsed": false,
     "input": [
      "def LVmodel(parms, state, t):\n",
      "    \"\"\"function for lotka-volterra predator prey model\"\"\"\n",
      "    dN = parms[0]*state[0] - parms[1]*state[0]*state[1]\n",
      "    dP = parms[3]*parms[1]*state[0]*state[1] - parms[4]*state[1]\n",
      "    \n",
      "    return np.array([dN, dP])\n",
      "    "
     ],
     "language": "python",
     "metadata": {},
     "outputs": [],
     "prompt_number": 2
    },
    {
     "cell_type": "markdown",
     "metadata": {},
     "source": [
      "The above function takes in three arguments: \n",
      "1. _parms_ is a list of [r, a, e, q] corresponding to growth rate of the prey (_r_), attack rate (_a_), energetic efficiency (_e_), and mortality of the predator (_q_)\n",
      "2. _state_ is a list of the state variables, or _N_ and _P_ corresponding to the population sizes of the prey and predator populations respectively\n",
      "3. _t_ is the time"
     ]
    },
    {
     "cell_type": "code",
     "collapsed": false,
     "input": [
      "parms = [1.5, .5, .1, .3]\n",
      "state = [100, 10]\n",
      "t = np.linspace(0, 15, 1000)\n",
      "\n",
      "print parms\n",
      "print state"
     ],
     "language": "python",
     "metadata": {},
     "outputs": [
      {
       "output_type": "stream",
       "stream": "stdout",
       "text": [
        "[1.5, 0.5, 0.1, 0.3]\n",
        "[100, 10]\n"
       ]
      }
     ],
     "prompt_number": 9
    },
    {
     "cell_type": "code",
     "collapsed": false,
     "input": [
      "out = integrate.ode(LVmodel, t)\n",
      "print out"
     ],
     "language": "python",
     "metadata": {},
     "outputs": [
      {
       "output_type": "stream",
       "stream": "stdout",
       "text": [
        "<scipy.integrate._ode.ode object at 0x0000000003EC30F0>\n"
       ]
      }
     ],
     "prompt_number": 18
    },
    {
     "cell_type": "code",
     "collapsed": false,
     "input": [],
     "language": "python",
     "metadata": {},
     "outputs": [],
     "prompt_number": 19
    }
   ],
   "metadata": {}
  }
 ]
}